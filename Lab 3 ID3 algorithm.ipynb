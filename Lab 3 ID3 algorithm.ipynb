{
 "cells": [
  {
   "cell_type": "code",
   "execution_count": 4,
   "id": "cad51aa7",
   "metadata": {},
   "outputs": [],
   "source": [
    "import math\n",
    "import pandas as pd"
   ]
  },
  {
   "cell_type": "code",
   "execution_count": 5,
   "id": "5eb0fb17",
   "metadata": {},
   "outputs": [],
   "source": [
    "class DecisionTree:\n",
    "    def __init__(self, df, target, positive, parent_val, parent):\n",
    "        self.data = df\n",
    "        self.target = target\n",
    "        self.positive = positive\n",
    "        self.parent_val = parent_val\n",
    "        self.parent = parent\n",
    "        self.childs = []\n",
    "        self.decision = ''\n",
    "\n",
    "    def _get_entropy(self, data):\n",
    "        p = sum(data[self.target] == self.positive)\n",
    "        n = data.shape[0] - p\n",
    "        p_ratio = p / (p + n)\n",
    "        n_ratio = 1 - p_ratio\n",
    "        entropy_p = -p_ratio * math.log2(p_ratio) if p_ratio != 0 else 0\n",
    "        entropy_n = -n_ratio * math.log2(n_ratio) if n_ratio != 0 else 0\n",
    "        return entropy_p + entropy_n\n",
    "\n",
    "    def _get_gain(self, feat):\n",
    "        avg_info = sum(self._get_entropy(self.data[self.data[feat] == val]) *\n",
    "                       sum(self.data[feat] == val) / self.data.shape[0]\n",
    "                       for val in self.data[feat].unique())\n",
    "        return self._get_entropy(self.data) - avg_info\n",
    "\n",
    "    def _get_splitter(self):\n",
    "        self.splitter = max(self.gains, key=lambda x: x[1])[0]\n",
    "\n",
    "    def update_nodes(self):\n",
    "        self.features = [col for col in self.data.columns if col != self.target]\n",
    "        self.entropy = self._get_entropy(self.data)\n",
    "        if self.entropy != 0:\n",
    "            self.gains = [(feat, self._get_gain(feat)) for feat in self.features]\n",
    "            self._get_splitter()\n",
    "            residual_columns = [k for k in self.data.columns if k != self.splitter]\n",
    "            for val in self.data[self.splitter].unique():\n",
    "                df_tmp = self.data[self.data[self.splitter] == val][residual_columns]\n",
    "                tmp_node = DecisionTree(df_tmp, self.target, self.positive, val, self.splitter)\n",
    "                tmp_node.update_nodes()\n",
    "                self.childs.append(tmp_node)"
   ]
  },
  {
   "cell_type": "code",
   "execution_count": 6,
   "id": "8ef624d2",
   "metadata": {},
   "outputs": [],
   "source": [
    "\n",
    "def print_tree(node, depth=0):\n",
    "    if node:\n",
    "        print(f\"{'  ' * depth}Parent: {node.parent} | Parent Value: {node.parent_val}\")\n",
    "        for child in node.childs:\n",
    "            print_tree(child, depth + 1)\n"
   ]
  },
  {
   "cell_type": "code",
   "execution_count": 7,
   "id": "42bf5524",
   "metadata": {},
   "outputs": [
    {
     "name": "stdout",
     "output_type": "stream",
     "text": [
      "Parent:  | Parent Value: \n",
      "  Parent: Outlook | Parent Value: Sunny\n",
      "    Parent: Humidity | Parent Value: High\n",
      "    Parent: Humidity | Parent Value: Normal\n",
      "  Parent: Outlook | Parent Value: Overcast\n",
      "  Parent: Outlook | Parent Value: Rainy\n",
      "    Parent: WindSpeed | Parent Value: Weak\n",
      "    Parent: WindSpeed | Parent Value: Strong\n"
     ]
    }
   ],
   "source": [
    "df = pd.read_excel('exa.xlsx')\n",
    "dt = DecisionTree(df, 'Play', 'Yes', '', '')\n",
    "dt.update_nodes()\n",
    "print_tree(dt)"
   ]
  }
 ],
 "metadata": {
  "kernelspec": {
   "display_name": "Python 3 (ipykernel)",
   "language": "python",
   "name": "python3"
  },
  "language_info": {
   "codemirror_mode": {
    "name": "ipython",
    "version": 3
   },
   "file_extension": ".py",
   "mimetype": "text/x-python",
   "name": "python",
   "nbconvert_exporter": "python",
   "pygments_lexer": "ipython3",
   "version": "3.9.12"
  }
 },
 "nbformat": 4,
 "nbformat_minor": 5
}
