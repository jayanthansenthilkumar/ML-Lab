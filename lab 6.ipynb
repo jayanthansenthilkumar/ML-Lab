{
 "cells": [
  {
   "cell_type": "code",
   "execution_count": 10,
   "id": "7ff28e4e",
   "metadata": {
    "scrolled": true
   },
   "outputs": [
    {
     "name": "stdout",
     "output_type": "stream",
     "text": [
      "Accuracy: 0.0000\n",
      "Precision: 0.0000\n",
      "Recall: 0.0000\n"
     ]
    },
    {
     "name": "stderr",
     "output_type": "stream",
     "text": [
      "C:\\Users\\Lenovo\\anaconda3\\lib\\site-packages\\sklearn\\metrics\\_classification.py:1318: UndefinedMetricWarning: Recall is ill-defined and being set to 0.0 due to no true samples. Use `zero_division` parameter to control this behavior.\n",
      "  _warn_prf(average, modifier, msg_start, len(result))\n"
     ]
    }
   ],
   "source": [
    "from sklearn.feature_extraction.text import TfidfVectorizer\n",
    "from sklearn.semi_supervised import LabelPropagation\n",
    "from sklearn.metrics import accuracy_score, precision_score, recall_score\n",
    "from sklearn.model_selection import train_test_split\n",
    "import numpy as np\n",
    "\n",
    "# Sample data (replace with your actual data)\n",
    "labeled_data = [(\"This is a document about sports\", \"Sports\"), \n",
    "                (\"This is a news article\", \"News\"),\n",
    "                (\"Another document about sports\", \"Sports\"),\n",
    "                (\"A text sample about politics\", \"Politics\"),\n",
    "                (\"A document discussing music\", \"Music\")]\n",
    "\n",
    "unlabeled_data = [\"This document discusses machine learning\", \n",
    "                  \"Another document about music\", \n",
    "                  \"A short text sample\"]\n",
    "\n",
    "# Combine data for feature extraction\n",
    "all_data = [text for text, _ in labeled_data] + unlabeled_data\n",
    "\n",
    "# Extract labels from labeled data\n",
    "texts, labels = zip(*labeled_data)\n",
    "\n",
    "# Feature Extraction (TF-IDF)\n",
    "vectorizer = TfidfVectorizer(max_features=500)\n",
    "features = vectorizer.fit_transform(all_data)\n",
    "\n",
    "# Convert features to dense numpy array\n",
    "features_dense = features.toarray()\n",
    "\n",
    "# Get all unique labels\n",
    "all_labels = sorted(set(labels))\n",
    "\n",
    "# Create label distributions matrix\n",
    "label_distributions = np.zeros((len(texts), len(all_labels)))\n",
    "for i, label in enumerate(labels):\n",
    "    label_distributions[i, all_labels.index(label)] = 1\n",
    "\n",
    "# Split labeled data into training set and test set\n",
    "X_train, X_test, y_train, y_test = train_test_split(features_dense[:len(texts)], labels, test_size=0.2, random_state=42)\n",
    "\n",
    "# Convert y_train to indices of true classes\n",
    "y_train_indices = np.array([all_labels.index(label) for label in y_train])\n",
    "\n",
    "# Train the semi-supervised classifier\n",
    "semi_clf = LabelPropagation()\n",
    "semi_clf.fit(X_train, y_train_indices)  # Ensure y_train_indices is passed as is\n",
    "\n",
    "# Predict labels for test set\n",
    "predictions = semi_clf.predict(X_test)\n",
    "\n",
    "# Calculate evaluation metrics\n",
    "accuracy = accuracy_score(np.array([all_labels.index(label) for label in y_test]), predictions)\n",
    "precision = precision_score(np.array([all_labels.index(label) for label in y_test]), predictions, average='weighted', labels=np.unique(predictions))\n",
    "recall = recall_score(np.array([all_labels.index(label) for label in y_test]), predictions, average='weighted', labels=np.unique(predictions))\n",
    "\n",
    "print(f\"Accuracy: {accuracy:.4f}\")\n",
    "print(f\"Precision: {precision:.4f}\")\n",
    "print(f\"Recall: {recall:.4f}\")\n"
   ]
  }
 ],
 "metadata": {
  "kernelspec": {
   "display_name": "Python 3 (ipykernel)",
   "language": "python",
   "name": "python3"
  },
  "language_info": {
   "codemirror_mode": {
    "name": "ipython",
    "version": 3
   },
   "file_extension": ".py",
   "mimetype": "text/x-python",
   "name": "python",
   "nbconvert_exporter": "python",
   "pygments_lexer": "ipython3",
   "version": "3.9.12"
  }
 },
 "nbformat": 4,
 "nbformat_minor": 5
}
