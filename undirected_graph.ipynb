{
 "cells": [
  {
   "cell_type": "code",
   "execution_count": 5,
   "id": "1a548d70",
   "metadata": {},
   "outputs": [
    {
     "name": "stdout",
     "output_type": "stream",
     "text": [
      "Node 'B' exists in the graph.\n",
      "Edge ('A', 'B') exists in the graph.\n",
      "Neighbors of node 'A': ['B', 'E']\n",
      "Shortest path from 'A' to 'E': ['A', 'E']\n",
      "Connected components: [{'A', 'E', 'D', 'B'}]\n",
      "Degree of node 'D': 1\n"
     ]
    },
    {
     "data": {
      "image/png": "[encoded data removed]",
      "text/plain": [
       "<Figure size 432x288 with 1 Axes>"
      ]
     },
     "metadata": {},
     "output_type": "display_data"
    }
   ],
   "source": [
    "import networkx as nx\n",
    "import matplotlib.pyplot as plt\n",
    "\n",
    "# Create an undirected graph\n",
    "undirected_graph = nx.Graph()\n",
    "\n",
    "# Add nodes\n",
    "undirected_graph.add_nodes_from(['A', 'B', 'C', 'D', 'E'])\n",
    "\n",
    "# Add edges\n",
    "undirected_graph.add_edges_from([('A', 'B'), ('B', 'C'), ('C', 'D'), ('D', 'E'), ('E', 'A')])\n",
    "\n",
    "# Remove node 'C'\n",
    "undirected_graph.remove_node('C')\n",
    "\n",
    "# Check if node 'B' exists\n",
    "if undirected_graph.has_node('B'):\n",
    "    print(\"Node 'B' exists in the graph.\")\n",
    "\n",
    "# Check if edge ('A', 'B') exists\n",
    "if undirected_graph.has_edge('A', 'B'):\n",
    "    print(\"Edge ('A', 'B') exists in the graph.\")\n",
    "\n",
    "# Access neighbors of node 'A'\n",
    "neighbors_of_a = list(undirected_graph.neighbors('A'))\n",
    "print(\"Neighbors of node 'A':\", neighbors_of_a)\n",
    "\n",
    "# Calculate shortest path between nodes 'A' and 'E'\n",
    "shortest_path = nx.shortest_path(undirected_graph, source='A', target='E')\n",
    "print(\"Shortest path from 'A' to 'E':\", shortest_path)\n",
    "\n",
    "# Calculate connected components\n",
    "connected_components = list(nx.connected_components(undirected_graph))\n",
    "print(\"Connected components:\", connected_components)\n",
    "\n",
    "# Calculate degree of node 'D'\n",
    "degree_of_d = undirected_graph.degree('D')\n",
    "print(\"Degree of node 'D':\", degree_of_d)\n",
    "\n",
    "# Visualize the graph\n",
    "nx.draw(undirected_graph, with_labels=True, node_color='skyblue', node_size=1000, font_size=15, font_weight='bold')\n",
    "plt.title('Undirected Graph')\n",
    "plt.show()\n"
   ]
  },
  {
   "cell_type": "code",
   "execution_count": 1,
   "id": "bfb6f1c8",
   "metadata": {},
   "outputs": [
    {
     "name": "stderr",
     "output_type": "stream",
     "text": [
      "INFO:numexpr.utils:NumExpr defaulting to 8 threads.\n"
     ]
    },
    {
     "name": "stdout",
     "output_type": "stream",
     "text": [
      "+------+------+------+--------------+\n",
      "| A    | B    | C    |   phi(A,B,C) |\n",
      "+======+======+======+==============+\n",
      "| A(0) | B(0) | C(0) |       0.0333 |\n",
      "+------+------+------+--------------+\n",
      "| A(0) | B(0) | C(1) |       0.0667 |\n",
      "+------+------+------+--------------+\n",
      "| A(0) | B(1) | C(0) |       0.1333 |\n",
      "+------+------+------+--------------+\n",
      "| A(0) | B(1) | C(1) |       0.0667 |\n",
      "+------+------+------+--------------+\n",
      "| A(1) | B(0) | C(0) |       0.1000 |\n",
      "+------+------+------+--------------+\n",
      "| A(1) | B(0) | C(1) |       0.2000 |\n",
      "+------+------+------+--------------+\n",
      "| A(1) | B(1) | C(0) |       0.2667 |\n",
      "+------+------+------+--------------+\n",
      "| A(1) | B(1) | C(1) |       0.1333 |\n",
      "+------+------+------+--------------+\n"
     ]
    }
   ],
   "source": [
    "from pgmpy.models import MarkovNetwork\n",
    "from pgmpy.factors.discrete import DiscreteFactor\n",
    "from pgmpy.inference import BeliefPropagation\n",
    "\n",
    "# Define the graph structure\n",
    "mrf = MarkovNetwork()\n",
    "mrf.add_nodes_from(['A', 'B', 'C'])\n",
    "mrf.add_edges_from([('A', 'B'), ('B', 'C')])\n",
    "\n",
    "# Specify potential functions\n",
    "factor_ab = DiscreteFactor(['A', 'B'], [2, 2], [1, 2, 3, 4])\n",
    "factor_bc = DiscreteFactor(['B', 'C'], [2, 2], [1, 2, 2, 1])\n",
    "\n",
    "# Add potential functions to the MRF\n",
    "mrf.add_factors(factor_ab, factor_bc)\n",
    "\n",
    "# Perform inference\n",
    "bp = BeliefPropagation(mrf)\n",
    "result = bp.query(variables=['A', 'B', 'C'])\n",
    "\n",
    "print(result)\n"
   ]
  },
  {
   "cell_type": "code",
   "execution_count": 2,
   "id": "0af3f8cb",
   "metadata": {},
   "outputs": [
    {
     "data": {
      "image/png": "[encoded data removed]",
      "text/plain": [
       "<Figure size 432x288 with 1 Axes>"
      ]
     },
     "metadata": {},
     "output_type": "display_data"
    }
   ],
   "source": [
    "import networkx as nx\n",
    "import matplotlib.pyplot as plt\n",
    "\n",
    "# Create an undirected graph from the MRF\n",
    "undirected_graph = nx.Graph()\n",
    "undirected_graph.add_nodes_from(['A', 'B', 'C'])\n",
    "undirected_graph.add_edges_from([('A', 'B'), ('B', 'C')])\n",
    "\n",
    "# Plot the graph\n",
    "nx.draw(undirected_graph, with_labels=True, node_color='skyblue', node_size=1000, font_size=15, font_weight='bold')\n",
    "plt.title('Undirected Graph for MRF')\n",
    "plt.show()\n"
   ]
  },
  {
   "cell_type": "code",
   "execution_count": 4,
   "id": "f3df272c",
   "metadata": {},
   "outputs": [
    {
     "name": "stdout",
     "output_type": "stream",
     "text": [
      "Shortest distances from node A:\n",
      "  To node A: 0 units\n",
      "  To node E: 1 units\n",
      "  To node B: 1 units\n",
      "  To node C: 2 units\n",
      "  To node D: 2 units\n",
      "Shortest distances from node B:\n",
      "  To node B: 0 units\n",
      "  To node C: 1 units\n",
      "  To node A: 1 units\n",
      "  To node E: 2 units\n",
      "  To node D: 2 units\n",
      "Shortest distances from node C:\n",
      "  To node C: 0 units\n",
      "  To node D: 1 units\n",
      "  To node B: 1 units\n",
      "  To node A: 2 units\n",
      "  To node E: 2 units\n",
      "Shortest distances from node D:\n",
      "  To node D: 0 units\n",
      "  To node C: 1 units\n",
      "  To node E: 1 units\n",
      "  To node A: 2 units\n",
      "  To node B: 2 units\n",
      "Shortest distances from node E:\n",
      "  To node E: 0 units\n",
      "  To node A: 1 units\n",
      "  To node D: 1 units\n",
      "  To node C: 2 units\n",
      "  To node B: 2 units\n"
     ]
    }
   ],
   "source": [
    "import networkx as nx\n",
    "\n",
    "# Create an undirected graph\n",
    "undirected_graph = nx.Graph()\n",
    "undirected_graph.add_nodes_from(['A', 'B', 'C', 'D', 'E'])\n",
    "undirected_graph.add_edges_from([('A', 'B'), ('B', 'C'), ('C', 'D'), ('D', 'E'), ('E', 'A')])\n",
    "\n",
    "# Calculate shortest distances using Dijkstra's algorithm\n",
    "shortest_distances = dict(nx.all_pairs_shortest_path_length(undirected_graph))\n",
    "\n",
    "# Print shortest distances\n",
    "for source_node in shortest_distances:\n",
    "    print(f\"Shortest distances from node {source_node}:\")\n",
    "    for target_node, distance in shortest_distances[source_node].items():\n",
    "        print(f\"  To node {target_node}: {distance} units\")\n"
   ]
  }
 ],
 "metadata": {
  "kernelspec": {
   "display_name": "Python 3 (ipykernel)",
   "language": "python",
   "name": "python3"
  },
  "language_info": {
   "codemirror_mode": {
    "name": "ipython",
    "version": 3
   },
   "file_extension": ".py",
   "mimetype": "text/x-python",
   "name": "python",
   "nbconvert_exporter": "python",
   "pygments_lexer": "ipython3",
   "version": "3.9.12"
  }
 },
 "nbformat": 4,
 "nbformat_minor": 5
}
