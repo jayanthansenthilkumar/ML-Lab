{
 "cells": [
  {
   "cell_type": "code",
   "execution_count": null,
   "id": "335048e2",
   "metadata": {},
   "outputs": [],
   "source": [
    "import numpy as np\n",
    "\n",
    "class PolicyGradient:\n",
    "    def __init__(self, alpha, states, actions):\n",
    "        self.alpha = alpha  # Learning rate\n",
    "        self.states = states  # Possible states\n",
    "        self.actions = actions  # Possible actions\n",
    "        self.Q = np.zeros((len(states), len(actions)))  # Q-value table (initialized to 0)\n",
    "\n",
    "    def choose_action(self, state):\n",
    "        # Epsilon-greedy exploration (choose random action with probability epsilon)\n",
    "        epsilon = 0.1\n",
    "        if np.random.rand() < epsilon:\n",
    "            return np.random.choice(self.actions)\n",
    "        else:\n",
    "            # Choose action with highest Q-value for the current state\n",
    "            return self.actions[np.argmax(self.Q[state])]\n",
    "\n",
    "    def update(self, state, action, reward, next_state):\n",
    "        # Baseline (average reward across all states and actions)\n",
    "        baseline = np.mean(self.Q)\n",
    "\n",
    "        # Temporal Difference (TD) error\n",
    "        TD_error = reward + np.max(self.Q[next_state]) - self.Q[state][action]\n",
    "\n",
    "        # Update Q-value using gradient ascent (maximize expected return)\n",
    "        self.Q[state][action] += self.alpha * TD_error * (reward - baseline)\n",
    "\n",
    "# Example usage\n",
    "env = MyEnvironment()  # Replace with your environment\n",
    "agent = PolicyGradient(alpha=0.1, states=env.get_states(), actions=env.get_actions())\n",
    "\n",
    "for episode in range(1000):\n",
    "    state = env.reset()\n",
    "    done = False\n",
    "    while not done:\n",
    "        action = agent.choose_action(state)\n",
    "        next_state, reward, done, _ = env.step(action)\n",
    "        agent.update(state, action, reward, next_state)\n",
    "        state = next_state\n",
    "\n",
    "# Now the agent's Q-value table represents the optimal policy\n"
   ]
  }
 ],
 "metadata": {
  "kernelspec": {
   "display_name": "Python 3 (ipykernel)",
   "language": "python",
   "name": "python3"
  },
  "language_info": {
   "codemirror_mode": {
    "name": "ipython",
    "version": 3
   },
   "file_extension": ".py",
   "mimetype": "text/x-python",
   "name": "python",
   "nbconvert_exporter": "python",
   "pygments_lexer": "ipython3",
   "version": "3.9.12"
  }
 },
 "nbformat": 4,
 "nbformat_minor": 5
}
